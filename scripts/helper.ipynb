{
 "cells": [
  {
   "cell_type": "code",
   "execution_count": 41,
   "metadata": {},
   "outputs": [],
   "source": [
    "import cv2\n",
    "import os\n",
    "import re"
   ]
  },
  {
   "cell_type": "code",
   "execution_count": 46,
   "metadata": {},
   "outputs": [],
   "source": [
    "def process_name(video_path):\n",
    "    name = video_path.split('\\\\')[-1].split(\".\")[0].title()\n",
    "    name = re.sub(\"[^A-Za-z0-9]\",\"\",name)\n",
    "    name = name.replace(\" \", \"\")\n",
    "    return name\n",
    "\n",
    "def create_dir(path):\n",
    "    try:\n",
    "        if not os.path.exists(path):\n",
    "            os.makedirs(path)\n",
    "    except OSError:\n",
    "        print(f\"ERROR: creating directory with name {path}\")\n",
    "\n",
    "def extract_frame(video_path, gap):\n",
    "    target_folder_path = '../data/frames'\n",
    "    name = process_name(video_path)\n",
    "    target_folder_path = os.path.join(target_folder_path, name)\n",
    "    create_dir(target_folder_path)\n",
    "\n",
    "    cap = cv2.VideoCapture(video_path)\n",
    "    idx = 0\n",
    "\n",
    "    while True:\n",
    "        ret, frame = cap.read()\n",
    "        \n",
    "        if ret == False:\n",
    "            cap.release()\n",
    "            break\n",
    "\n",
    "        if idx == 0:\n",
    "            cv2.imwrite(f\"{target_folder_path}/{idx}.png\", frame)\n",
    "        else:\n",
    "            if idx % gap == 0:\n",
    "                cv2.imwrite(f\"{target_folder_path}/{idx}.png\", frame)\n",
    "        \n",
    "        idx +=1\n",
    "\n",
    "        if idx == 1000:\n",
    "            break\n",
    "    \n",
    "    return target_folder_path\n"
   ]
  },
  {
   "cell_type": "code",
   "execution_count": 47,
   "metadata": {},
   "outputs": [
    {
     "data": {
      "text/plain": [
       "'../data/frames\\\\1MinuteFunnyVideos'"
      ]
     },
     "execution_count": 47,
     "metadata": {},
     "output_type": "execute_result"
    }
   ],
   "source": [
    "link1 = r'D:\\Venm\\data\\video\\1 minute funny videos.mp4'\n",
    "link2 = r'D:\\Venm\\data\\video\\Best Animal video  Satisfying video only of 15 seconds dont waste time ✌🏻.mp4'\n",
    "extract_frame(link1,2)\n",
    "# extract_frame(link2,'')"
   ]
  }
 ],
 "metadata": {
  "kernelspec": {
   "display_name": "Python 3.10.4 ('vnm')",
   "language": "python",
   "name": "python3"
  },
  "language_info": {
   "codemirror_mode": {
    "name": "ipython",
    "version": 3
   },
   "file_extension": ".py",
   "mimetype": "text/x-python",
   "name": "python",
   "nbconvert_exporter": "python",
   "pygments_lexer": "ipython3",
   "version": "3.10.4"
  },
  "orig_nbformat": 4,
  "vscode": {
   "interpreter": {
    "hash": "36ac895447f34635d200f2592d3e65f0dd8551d5b7cdcfc0731f021d96dfa8b0"
   }
  }
 },
 "nbformat": 4,
 "nbformat_minor": 2
}
